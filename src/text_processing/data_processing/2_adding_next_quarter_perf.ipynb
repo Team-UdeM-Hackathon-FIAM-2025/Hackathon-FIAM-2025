{
 "cells": [
  {
   "cell_type": "markdown",
   "id": "18ef8825",
   "metadata": {},
   "source": [
    "# Setting up env"
   ]
  },
  {
   "cell_type": "markdown",
   "id": "1071a9a6",
   "metadata": {},
   "source": [
    "## Importing Libs"
   ]
  },
  {
   "cell_type": "code",
   "execution_count": 3,
   "id": "a081afc5",
   "metadata": {},
   "outputs": [],
   "source": [
    "import polars as pl\n",
    "import pandas as pd\n",
    "import yfinance as yf"
   ]
  },
  {
   "cell_type": "markdown",
   "id": "08216975",
   "metadata": {},
   "source": [
    "## setting up paths"
   ]
  },
  {
   "cell_type": "code",
   "execution_count": 1,
   "id": "a8a37d44",
   "metadata": {},
   "outputs": [],
   "source": [
    "from paths import DATASET_OUTPUT_FILE, PRE_DATASET_FILE"
   ]
  },
  {
   "cell_type": "markdown",
   "id": "68a97fa3",
   "metadata": {},
   "source": [
    "## parameters"
   ]
  },
  {
   "cell_type": "code",
   "execution_count": 4,
   "id": "8331dd9a",
   "metadata": {},
   "outputs": [],
   "source": [
    "offset_days = 63"
   ]
  },
  {
   "cell_type": "code",
   "execution_count": 2,
   "id": "e37f0b2c",
   "metadata": {},
   "outputs": [],
   "source": [
    "import warnings\n",
    "warnings.filterwarnings(\"ignore\", category=FutureWarning)"
   ]
  },
  {
   "cell_type": "code",
   "execution_count": 5,
   "id": "ab820b63",
   "metadata": {},
   "outputs": [
    {
     "name": "stdout",
     "output_type": "stream",
     "text": [
      "(9686, 8)\n",
      "shape: (5, 8)\n",
      "┌────────────┬─────────┬───────────┬─────────────────┬────────────────┬─────────┬───────────┬──────┐\n",
      "│ date       ┆ cik     ┆ file_type ┆ rf              ┆ mgmt           ┆ gvkey   ┆ cusip     ┆ year │\n",
      "│ ---        ┆ ---     ┆ ---       ┆ ---             ┆ ---            ┆ ---     ┆ ---       ┆ ---  │\n",
      "│ date       ┆ i64     ┆ str       ┆ str             ┆ str            ┆ f64     ┆ str       ┆ i64  │\n",
      "╞════════════╪═════════╪═══════════╪═════════════════╪════════════════╪═════════╪═══════════╪══════╡\n",
      "│ 2006-02-09 ┆ 827054  ┆ 10Q       ┆ Item            ┆ Item 2.        ┆ 27965.0 ┆ 595017104 ┆ 2006 │\n",
      "│            ┆         ┆           ┆ 1A. Risk        ┆ Management s   ┆         ┆           ┆      │\n",
      "│            ┆         ┆           ┆ Factors         ┆ Discussio…     ┆         ┆           ┆      │\n",
      "│            ┆         ┆           ┆                 ┆                ┆         ┆           ┆      │\n",
      "│            ┆         ┆           ┆ 28 It…          ┆                ┆         ┆           ┆      │\n",
      "│ 2006-02-09 ┆ 1037038 ┆ 10Q       ┆ Item 1A.        ┆ Item 2.        ┆ 64891.0 ┆ 751212101 ┆ 2006 │\n",
      "│            ┆         ┆           ┆                 ┆                ┆         ┆           ┆      │\n",
      "│            ┆         ┆           ┆ Risk Factors    ┆ Management s   ┆         ┆           ┆      │\n",
      "│            ┆         ┆           ┆                 ┆ Discuss…       ┆         ┆           ┆      │\n",
      "│            ┆         ┆           ┆ 37 I…           ┆                ┆         ┆           ┆      │\n",
      "│ 2006-04-06 ┆ 63754   ┆ 10Q       ┆ ITEM 1A         ┆ ITEM 2         ┆ 7146.0  ┆ 579780206 ┆ 2006 │\n",
      "│            ┆         ┆           ┆                 ┆                ┆         ┆           ┆      │\n",
      "│            ┆         ┆           ┆ RISK FACTORS    ┆ MANAGEMENT S   ┆         ┆           ┆      │\n",
      "│            ┆         ┆           ┆ ITEM 1A…        ┆ DISCUSSI…      ┆         ┆           ┆      │\n",
      "│ 2006-04-19 ┆ 804328  ┆ 10Q       ┆ Item 1A. Risk   ┆ Item 2.        ┆ 24800.0 ┆ 747525103 ┆ 2006 │\n",
      "│            ┆         ┆           ┆ Factors         ┆ Management s   ┆         ┆           ┆      │\n",
      "│            ┆         ┆           ┆                 ┆ Discussio…     ┆         ┆           ┆      │\n",
      "│            ┆         ┆           ┆ 52 ITE…         ┆                ┆         ┆           ┆      │\n",
      "│ 2006-04-20 ┆ 313616  ┆ 10Q       ┆ Item 1A.        ┆ Item 2.        ┆ 3735.0  ┆ 235851102 ┆ 2006 │\n",
      "│            ┆         ┆           ┆                 ┆                ┆         ┆           ┆      │\n",
      "│            ┆         ┆           ┆ Risk Factors    ┆ Management s   ┆         ┆           ┆      │\n",
      "│            ┆         ┆           ┆                 ┆ Discuss…       ┆         ┆           ┆      │\n",
      "│            ┆         ┆           ┆  30…            ┆                ┆         ┆           ┆      │\n",
      "└────────────┴─────────┴───────────┴─────────────────┴────────────────┴─────────┴───────────┴──────┘\n"
     ]
    }
   ],
   "source": [
    "# Charger le dataset\n",
    "df = pl.read_parquet(DATASET_OUTPUT_FILE)\n",
    "\n",
    "print(df.shape)\n",
    "print(df.head(5))"
   ]
  },
  {
   "cell_type": "code",
   "execution_count": 6,
   "id": "b904c264",
   "metadata": {},
   "outputs": [],
   "source": [
    "# Convertir ton df polars en pandas\n",
    "pdf = df.to_pandas()\n",
    "pdf[\"date\"] = pd.to_datetime(pdf[\"date\"])\n",
    "\n",
    "# Télécharger l'historique du S&P500 symbol (ou individuellement pour chaque stock)\n",
    "tickers = pdf[\"Symbol\"].unique().tolist()"
   ]
  },
  {
   "cell_type": "code",
   "execution_count": 7,
   "id": "453c80b7",
   "metadata": {},
   "outputs": [
    {
     "name": "stdout",
     "output_type": "stream",
     "text": [
      "min date : 2006-02-09 00:00:00\n",
      "max date : 2025-08-01 00:00:00\n"
     ]
    }
   ],
   "source": [
    "min_date = pdf[\"date\"].min()\n",
    "max_date = pdf[\"date\"].max() + pd.DateOffset(days=offset_days)\n",
    "\n",
    "print(f\"min date :\", min_date)\n",
    "print(f\"max date :\", max_date)\n"
   ]
  },
  {
   "cell_type": "code",
   "execution_count": 8,
   "id": "94dfd2a0",
   "metadata": {},
   "outputs": [
    {
     "name": "stderr",
     "output_type": "stream",
     "text": [
      "[*********************100%***********************]  168 of 168 completed\n",
      "\n",
      "1 Failed download:\n",
      "['BRK.B']: YFTzMissingError('possibly delisted; no timezone found')\n"
     ]
    },
    {
     "name": "stdout",
     "output_type": "stream",
     "text": [
      "(4899, 168)\n",
      "Ticker            AEE        AIZ       AKAM        ALB  ALGN        AMD  \\\n",
      "Date                                                                      \n",
      "2006-02-09  22.618095  30.220770  26.010000  16.064569  8.41  40.060001   \n",
      "2006-02-10  22.748232  30.728865  25.540001  16.248652  8.25  40.099998   \n",
      "2006-02-13  22.707853  30.088528  24.930000  16.060806  8.12  38.959999   \n",
      "2006-02-14  22.434097  30.784550  25.100000  16.203571  8.17  40.220001   \n",
      "2006-02-15  22.461029  30.659269  25.770000  16.143459  8.33  40.240002   \n",
      "\n",
      "Ticker           AMGN        AMP    AMZN       APH  ...        WAB        WEC  \\\n",
      "Date                                                ...                         \n",
      "2006-02-09  48.708122  29.673944  1.8995  2.681131  ...  14.343351  10.898447   \n",
      "2006-02-10  49.009937  29.437487  1.9260  2.675675  ...  14.208611  10.825067   \n",
      "2006-02-13  48.797287  28.971292  1.8930  2.644029  ...  14.064572  10.871270   \n",
      "2006-02-14  49.339188  29.687469  1.9125  2.613475  ...  14.598902  10.895729   \n",
      "2006-02-15  50.052555  29.234776  1.9630  2.674037  ...  14.975259  10.906599   \n",
      "\n",
      "Ticker           WELL        WFC         WM       WRB        WSM        YUM  \\\n",
      "Date                                                                          \n",
      "2006-02-09  13.936313  17.968517  19.319103  6.711341  12.428617  12.201764   \n",
      "2006-02-10  14.011083  18.115238  19.857237  6.826065  12.249968  12.397371   \n",
      "2006-02-13  13.979597  18.091761  19.537918  7.270971  12.259542  12.402323   \n",
      "2006-02-14  14.011083  18.385225  19.768530  7.636127  12.505180  12.518696   \n",
      "2006-02-15  14.188190  18.631727  19.833570  7.854384  12.667874  12.526127   \n",
      "\n",
      "Ticker            ZBH       ZBRA  \n",
      "Date                              \n",
      "2006-02-09  59.292168  45.880001  \n",
      "2006-02-10  59.352779  45.849998  \n",
      "2006-02-13  59.448078  45.119999  \n",
      "2006-02-14  59.508713  45.029999  \n",
      "2006-02-15  59.266171  44.540001  \n",
      "\n",
      "[5 rows x 168 columns]\n"
     ]
    }
   ],
   "source": [
    "# télécharger toutes les séries d’un coup\n",
    "data = yf.download(\n",
    "    tickers,\n",
    "    start=min_date,\n",
    "    end=max_date\n",
    ")['Close']\n",
    "\n",
    "print(data.shape)\n",
    "print(data.head())"
   ]
  },
  {
   "cell_type": "code",
   "execution_count": 9,
   "id": "65505329",
   "metadata": {},
   "outputs": [],
   "source": [
    "pdf.reset_index(inplace = True)\n",
    "pdf[\"date\"] = pd.to_datetime(pdf[\"date\"])   # conversion en datetime\n",
    "pdf = pdf.set_index([\"Symbol\", \"date\"])                 # nouvel index"
   ]
  },
  {
   "cell_type": "code",
   "execution_count": 10,
   "id": "5edd4a82",
   "metadata": {},
   "outputs": [
    {
     "name": "stdout",
     "output_type": "stream",
     "text": [
      "                   index      cik file_type  \\\n",
      "Symbol date                                   \n",
      "MCHP   2006-02-09      0   827054       10Q   \n",
      "RL     2006-02-09      1  1037038       10Q   \n",
      "MKC    2006-04-06      2    63754       10Q   \n",
      "QCOM   2006-04-19      3   804328       10Q   \n",
      "DHR    2006-04-20      4   313616       10Q   \n",
      "...                  ...      ...       ...   \n",
      "WSM    2025-05-28   9739   719955       10Q   \n",
      "SNPS   2025-05-28   9740   883241       10Q   \n",
      "LOW    2025-05-29   9741    60667       10Q   \n",
      "CRM    2025-05-29   9742  1108524       10Q   \n",
      "TGT    2025-05-30   9743    27419       10Q   \n",
      "\n",
      "                                                                  rf  \\\n",
      "Symbol date                                                            \n",
      "MCHP   2006-02-09  Item\\n 1A. Risk Factors \\n\\n28 Item 1A. Risk\\n...   \n",
      "RL     2006-02-09  Item 1A. \\n\\nRisk Factors \\n\\n37 Item 1A. Risk...   \n",
      "MKC    2006-04-06  ITEM 1A \\n\\nRISK FACTORS ITEM 1A. RISK FACTORS...   \n",
      "QCOM   2006-04-19  Item 1A. Risk Factors \\n\\n52 ITEM 1A. RISK FAC...   \n",
      "DHR    2006-04-20  Item 1A. \\n\\nRisk Factors \\n \\n 30 ITEM 1A. RI...   \n",
      "...                                                              ...   \n",
      "WSM    2025-05-28    Item 1A.Risk Factors22 ITEM 1A. RISK FACTORSSee   \n",
      "SNPS   2025-05-28  Item 1A.Risk Factors52 Item 1A.Risk FactorsRis...   \n",
      "LOW    2025-05-29  Item 1A.Risk Factors19 Item 1A. - Risk Factors...   \n",
      "CRM    2025-05-29                             Item 1A.Risk Factors44   \n",
      "TGT    2025-05-30  Item 1A.Risk Factors24 Item 1A. Risk FactorsTh...   \n",
      "\n",
      "                                                                mgmt  \\\n",
      "Symbol date                                                            \n",
      "MCHP   2006-02-09  Item 2. Management s Discussion and Analysis o...   \n",
      "RL     2006-02-09  Item 2. \\n\\nManagement s Discussion and Analys...   \n",
      "MKC    2006-04-06  ITEM 2 \\n\\nMANAGEMENT S DISCUSSION AND\\n ANALY...   \n",
      "QCOM   2006-04-19  Item 2. Management s Discussion and Analysis o...   \n",
      "DHR    2006-04-20  Item 2. \\n\\nManagement s Discussion and Analys...   \n",
      "...                                                              ...   \n",
      "WSM    2025-05-28  Item 2.Management’s Discussion and Analysis of...   \n",
      "SNPS   2025-05-28  Item 2.Management’s Discussion and Analysis of...   \n",
      "LOW    2025-05-29  Item 2.Management’s Discussion and Analysis of...   \n",
      "CRM    2025-05-29  Item 2.Management’s Discussion and Analysis of...   \n",
      "TGT    2025-05-30  Item 2.Management’s Discussion and Analysis of...   \n",
      "\n",
      "                      gvkey      cusip  year  rf_len  mgmt_len  \\\n",
      "Symbol date                                                      \n",
      "MCHP   2006-02-09   27965.0  595017104  2006   26984     64486   \n",
      "RL     2006-02-09   64891.0  751212101  2006    6080     42221   \n",
      "MKC    2006-04-06    7146.0  579780206  2006     196     34557   \n",
      "QCOM   2006-04-19   24800.0  747525103  2006     398    136043   \n",
      "DHR    2006-04-20    3735.0  235851102  2006     490     65507   \n",
      "...                     ...        ...   ...     ...       ...   \n",
      "WSM    2025-05-28   11511.0  969904101  2025      47     20065   \n",
      "SNPS   2025-05-28   24975.0  871607107  2025   83900     62337   \n",
      "LOW    2025-05-29    6829.0  548661107  2025     226     17923   \n",
      "CRM    2025-05-29  157855.0  79466L302  2025      22      1338   \n",
      "TGT    2025-05-30    3813.0  87612E106  2025     203     25078   \n",
      "\n",
      "                                   Security  \n",
      "Symbol date                                  \n",
      "MCHP   2006-02-09      Microchip Technology  \n",
      "RL     2006-02-09  Ralph Lauren Corporation  \n",
      "MKC    2006-04-06       McCormick & Company  \n",
      "QCOM   2006-04-19                  Qualcomm  \n",
      "DHR    2006-04-20       Danaher Corporation  \n",
      "...                                     ...  \n",
      "WSM    2025-05-28     Williams-Sonoma, Inc.  \n",
      "SNPS   2025-05-28                  Synopsys  \n",
      "LOW    2025-05-29                    Lowe's  \n",
      "CRM    2025-05-29                Salesforce  \n",
      "TGT    2025-05-30        Target Corporation  \n",
      "\n",
      "[9744 rows x 11 columns]\n",
      "MultiIndex([('MCHP', '2006-02-09'),\n",
      "            (  'RL', '2006-02-09'),\n",
      "            ( 'MKC', '2006-04-06'),\n",
      "            ('QCOM', '2006-04-19'),\n",
      "            ( 'DHR', '2006-04-20'),\n",
      "            ( 'RTX', '2006-04-21'),\n",
      "            ( 'LUV', '2006-04-24'),\n",
      "            ('FAST', '2006-04-25'),\n",
      "            ( 'CNC', '2006-04-25'),\n",
      "            ( 'NOC', '2006-04-25'),\n",
      "            ...\n",
      "            ('EXPE', '2025-05-09'),\n",
      "            ( 'DVA', '2025-05-12'),\n",
      "            ('STLD', '2025-05-12'),\n",
      "            ( 'NUE', '2025-05-14'),\n",
      "            (  'HD', '2025-05-28'),\n",
      "            ( 'WSM', '2025-05-28'),\n",
      "            ('SNPS', '2025-05-28'),\n",
      "            ( 'LOW', '2025-05-29'),\n",
      "            ( 'CRM', '2025-05-29'),\n",
      "            ( 'TGT', '2025-05-30')],\n",
      "           names=['Symbol', 'date'], length=9744)\n"
     ]
    }
   ],
   "source": [
    "print(pdf)\n",
    "print(pdf.index)"
   ]
  },
  {
   "cell_type": "code",
   "execution_count": 11,
   "id": "4bebea76",
   "metadata": {},
   "outputs": [
    {
     "name": "stdout",
     "output_type": "stream",
     "text": [
      "Ticker             AEE         AIZ       AKAM        ALB        ALGN  \\\n",
      "Date                                                                   \n",
      "2006-02-09   22.618095   30.220770  26.010000  16.064569    8.410000   \n",
      "2006-02-10   22.748232   30.728865  25.540001  16.248652    8.250000   \n",
      "2006-02-13   22.707853   30.088528  24.930000  16.060806    8.120000   \n",
      "2006-02-14   22.434097   30.784550  25.100000  16.203571    8.170000   \n",
      "2006-02-15   22.461029   30.659269  25.770000  16.143459    8.330000   \n",
      "...                ...         ...        ...        ...         ...   \n",
      "2025-07-25   99.389221  185.588821  80.750000  83.288101  205.559998   \n",
      "2025-07-28   97.621857  184.164139  79.709999  74.366508  207.190002   \n",
      "2025-07-29   99.111206  184.492905  79.489998  71.213615  205.809998   \n",
      "2025-07-30   99.131065  183.875214  78.059998  68.518242  203.570007   \n",
      "2025-07-31  100.411903  186.605042  76.309998  67.483849  129.009995   \n",
      "\n",
      "Ticker             AMD        AMGN         AMP        AMZN         APH  ...  \\\n",
      "Date                                                                    ...   \n",
      "2006-02-09   40.060001   48.708122   29.673944    1.899500    2.681131  ...   \n",
      "2006-02-10   40.099998   49.009937   29.437487    1.926000    2.675675  ...   \n",
      "2006-02-13   38.959999   48.797287   28.971292    1.893000    2.644029  ...   \n",
      "2006-02-14   40.220001   49.339188   29.687469    1.912500    2.613475  ...   \n",
      "2006-02-15   40.240002   50.052555   29.234776    1.963000    2.674037  ...   \n",
      "...                ...         ...         ...         ...         ...  ...   \n",
      "2025-07-25  166.470001  304.112915  519.397644  231.440002  104.874672  ...   \n",
      "2025-07-28  173.660004  298.865509  516.796021  232.789993  106.552345  ...   \n",
      "2025-07-29  177.440002  301.117249  519.327881  231.009995  105.164268  ...   \n",
      "2025-07-30  179.509995  298.944855  518.091858  230.190002  105.344025  ...   \n",
      "2025-07-31  176.309998  292.725311  516.536804  234.110001  106.362617  ...   \n",
      "\n",
      "Ticker             WAB         WEC        WELL        WFC          WM  \\\n",
      "Date                                                                    \n",
      "2006-02-09   14.343351   10.898447   13.936313  17.968517   19.319103   \n",
      "2006-02-10   14.208611   10.825067   14.011083  18.115238   19.857237   \n",
      "2006-02-13   14.064572   10.871270   13.979597  18.091761   19.537918   \n",
      "2006-02-14   14.598902   10.895729   14.011083  18.385225   19.768530   \n",
      "2006-02-15   14.975259   10.906599   14.188190  18.631727   19.833570   \n",
      "...                ...         ...         ...        ...         ...   \n",
      "2025-07-25  196.956390  108.630409  160.848495  83.827538  228.810684   \n",
      "2025-07-28  196.756638  106.626816  157.592896  82.584839  227.047302   \n",
      "2025-07-29  192.532074  107.747635  165.229126  82.167297  234.678650   \n",
      "2025-07-30  190.394836  107.479836  165.647278  81.302376  231.640060   \n",
      "2025-07-31  191.803024  108.193985  164.343048  80.159088  228.302597   \n",
      "\n",
      "Ticker            WRB         WSM         YUM        ZBH        ZBRA  \n",
      "Date                                                                  \n",
      "2006-02-09   6.711341   12.428617   12.201764  59.292168   45.880001  \n",
      "2006-02-10   6.826065   12.249968   12.397371  59.352779   45.849998  \n",
      "2006-02-13   7.270971   12.259542   12.402323  59.448078   45.119999  \n",
      "2006-02-14   7.636127   12.505180   12.518696  59.508713   45.029999  \n",
      "2006-02-15   7.854384   12.667874   12.526127  59.266171   44.540001  \n",
      "...               ...         ...         ...        ...         ...  \n",
      "2025-07-25  68.905396  181.710007  145.991302  97.550003  335.690002  \n",
      "2025-07-28  67.916611  188.229996  143.592941  95.980003  334.690002  \n",
      "2025-07-29  68.545837  187.110001  144.478638  94.949997  331.600006  \n",
      "2025-07-30  68.825500  190.529999  146.279907  93.320000  332.390015  \n",
      "2025-07-31  68.725616  187.050003  143.453613  91.650002  339.019989  \n",
      "\n",
      "[4899 rows x 168 columns]\n",
      "DatetimeIndex(['2006-02-09', '2006-02-10', '2006-02-13', '2006-02-14',\n",
      "               '2006-02-15', '2006-02-16', '2006-02-17', '2006-02-21',\n",
      "               '2006-02-22', '2006-02-23',\n",
      "               ...\n",
      "               '2025-07-18', '2025-07-21', '2025-07-22', '2025-07-23',\n",
      "               '2025-07-24', '2025-07-25', '2025-07-28', '2025-07-29',\n",
      "               '2025-07-30', '2025-07-31'],\n",
      "              dtype='datetime64[ns]', name='Date', length=4899, freq=None)\n"
     ]
    }
   ],
   "source": [
    "print(data)\n",
    "print(data.index)"
   ]
  },
  {
   "cell_type": "code",
   "execution_count": 12,
   "id": "fea4f34a",
   "metadata": {},
   "outputs": [
    {
     "name": "stdout",
     "output_type": "stream",
     "text": [
      "DatetimeIndex(['2006-02-09', '2006-02-10', '2006-02-13', '2006-02-14',\n",
      "               '2006-02-15', '2006-02-16', '2006-02-17', '2006-02-21',\n",
      "               '2006-02-22', '2006-02-23',\n",
      "               ...\n",
      "               '2025-07-18', '2025-07-21', '2025-07-22', '2025-07-23',\n",
      "               '2025-07-24', '2025-07-25', '2025-07-28', '2025-07-29',\n",
      "               '2025-07-30', '2025-07-31'],\n",
      "              dtype='datetime64[ns]', name='Date', length=4899, freq=None)\n",
      "Index(['AEE', 'AIZ', 'AKAM', 'ALB', 'ALGN', 'AMD', 'AMGN', 'AMP', 'AMZN',\n",
      "       'APH',\n",
      "       ...\n",
      "       'WAB', 'WEC', 'WELL', 'WFC', 'WM', 'WRB', 'WSM', 'YUM', 'ZBH', 'ZBRA'],\n",
      "      dtype='object', name='Ticker', length=168)\n"
     ]
    }
   ],
   "source": [
    "print(data.index)     # DatetimeIndex\n",
    "print(data.columns)   # Index des tickers"
   ]
  },
  {
   "cell_type": "code",
   "execution_count": 13,
   "id": "7730c281",
   "metadata": {},
   "outputs": [],
   "source": [
    "forward_returns = data.shift(-63) / data - 1"
   ]
  },
  {
   "cell_type": "code",
   "execution_count": 14,
   "id": "a5ee3411",
   "metadata": {},
   "outputs": [
    {
     "name": "stdout",
     "output_type": "stream",
     "text": [
      "Ticker           AEE       AIZ      AKAM       ALB      ALGN       AMD  \\\n",
      "Date                                                                     \n",
      "2006-02-09 -0.009798  0.153639  0.339485  0.142229 -0.051130 -0.213929   \n",
      "2006-02-10 -0.028649  0.135244  0.346515  0.113969 -0.060606 -0.210474   \n",
      "2006-02-13 -0.016514  0.175858  0.302046  0.117134 -0.043103 -0.201232   \n",
      "2006-02-14 -0.012819  0.151311  0.296813  0.100541 -0.044064 -0.233963   \n",
      "2006-02-15 -0.024929  0.129179  0.242918  0.074500 -0.068427 -0.235338   \n",
      "\n",
      "Ticker          AMGN       AMP      AMZN       APH  ...       WAB       WEC  \\\n",
      "Date                                                ...                       \n",
      "2006-02-09 -0.052528  0.103365 -0.117399  0.182432  ...  0.236787  0.007238   \n",
      "2006-02-10 -0.046746  0.092675 -0.150312  0.144239  ...  0.202395  0.006238   \n",
      "2006-02-13 -0.018414  0.119608 -0.134179  0.156902  ...  0.212066  0.018556   \n",
      "2006-02-14 -0.035312  0.080052 -0.143529  0.167294  ...  0.192217  0.001468   \n",
      "2006-02-15 -0.063040  0.052304 -0.194855  0.111458  ...  0.125632 -0.013314   \n",
      "\n",
      "Ticker          WELL       WFC        WM       WRB       WSM       YUM  \\\n",
      "Date                                                                     \n",
      "2006-02-09 -0.021961  0.110580  0.154769  0.084263  0.097086  0.081542   \n",
      "2006-02-10 -0.038625  0.096361  0.109086  0.049730  0.115956  0.064477   \n",
      "2006-02-13 -0.015239  0.105957  0.113503  0.018434  0.121084  0.074058   \n",
      "2006-02-14 -0.022030  0.092486  0.106535 -0.026416  0.079117  0.041274   \n",
      "2006-02-15 -0.047800  0.055018  0.086401 -0.066574  0.032947  0.043826   \n",
      "\n",
      "Ticker           ZBH      ZBRA  \n",
      "Date                            \n",
      "2006-02-09 -0.085026 -0.169137  \n",
      "2006-02-10 -0.091798 -0.170992  \n",
      "2006-02-13 -0.093691 -0.162012  \n",
      "2006-02-14 -0.086754 -0.172996  \n",
      "2006-02-15 -0.094855 -0.169286  \n",
      "\n",
      "[5 rows x 168 columns]\n",
      "Ticker      AEE  AIZ  AKAM  ALB  ALGN  AMD  AMGN  AMP  AMZN  APH  ...  WAB  \\\n",
      "Date                                                              ...        \n",
      "2025-07-25  NaN  NaN   NaN  NaN   NaN  NaN   NaN  NaN   NaN  NaN  ...  NaN   \n",
      "2025-07-28  NaN  NaN   NaN  NaN   NaN  NaN   NaN  NaN   NaN  NaN  ...  NaN   \n",
      "2025-07-29  NaN  NaN   NaN  NaN   NaN  NaN   NaN  NaN   NaN  NaN  ...  NaN   \n",
      "2025-07-30  NaN  NaN   NaN  NaN   NaN  NaN   NaN  NaN   NaN  NaN  ...  NaN   \n",
      "2025-07-31  NaN  NaN   NaN  NaN   NaN  NaN   NaN  NaN   NaN  NaN  ...  NaN   \n",
      "\n",
      "Ticker      WEC  WELL  WFC  WM  WRB  WSM  YUM  ZBH  ZBRA  \n",
      "Date                                                      \n",
      "2025-07-25  NaN   NaN  NaN NaN  NaN  NaN  NaN  NaN   NaN  \n",
      "2025-07-28  NaN   NaN  NaN NaN  NaN  NaN  NaN  NaN   NaN  \n",
      "2025-07-29  NaN   NaN  NaN NaN  NaN  NaN  NaN  NaN   NaN  \n",
      "2025-07-30  NaN   NaN  NaN NaN  NaN  NaN  NaN  NaN   NaN  \n",
      "2025-07-31  NaN   NaN  NaN NaN  NaN  NaN  NaN  NaN   NaN  \n",
      "\n",
      "[5 rows x 168 columns]\n",
      "(4899, 168)\n"
     ]
    }
   ],
   "source": [
    "print(forward_returns.head())\n",
    "print(forward_returns.tail())\n",
    "print(forward_returns.shape)"
   ]
  },
  {
   "cell_type": "code",
   "execution_count": 15,
   "id": "ec173699",
   "metadata": {},
   "outputs": [],
   "source": [
    "forward_returns = forward_returns.iloc[:-63]"
   ]
  },
  {
   "cell_type": "code",
   "execution_count": 16,
   "id": "1b32d868",
   "metadata": {},
   "outputs": [
    {
     "name": "stdout",
     "output_type": "stream",
     "text": [
      "Ticker           AEE       AIZ      AKAM       ALB      ALGN       AMD  \\\n",
      "Date                                                                     \n",
      "2006-02-09 -0.009798  0.153639  0.339485  0.142229 -0.051130 -0.213929   \n",
      "2006-02-10 -0.028649  0.135244  0.346515  0.113969 -0.060606 -0.210474   \n",
      "2006-02-13 -0.016514  0.175858  0.302046  0.117134 -0.043103 -0.201232   \n",
      "2006-02-14 -0.012819  0.151311  0.296813  0.100541 -0.044064 -0.233963   \n",
      "2006-02-15 -0.024929  0.129179  0.242918  0.074500 -0.068427 -0.235338   \n",
      "\n",
      "Ticker          AMGN       AMP      AMZN       APH  ...       WAB       WEC  \\\n",
      "Date                                                ...                       \n",
      "2006-02-09 -0.052528  0.103365 -0.117399  0.182432  ...  0.236787  0.007238   \n",
      "2006-02-10 -0.046746  0.092675 -0.150312  0.144239  ...  0.202395  0.006238   \n",
      "2006-02-13 -0.018414  0.119608 -0.134179  0.156902  ...  0.212066  0.018556   \n",
      "2006-02-14 -0.035312  0.080052 -0.143529  0.167294  ...  0.192217  0.001468   \n",
      "2006-02-15 -0.063040  0.052304 -0.194855  0.111458  ...  0.125632 -0.013314   \n",
      "\n",
      "Ticker          WELL       WFC        WM       WRB       WSM       YUM  \\\n",
      "Date                                                                     \n",
      "2006-02-09 -0.021961  0.110580  0.154769  0.084263  0.097086  0.081542   \n",
      "2006-02-10 -0.038625  0.096361  0.109086  0.049730  0.115956  0.064477   \n",
      "2006-02-13 -0.015239  0.105957  0.113503  0.018434  0.121084  0.074058   \n",
      "2006-02-14 -0.022030  0.092486  0.106535 -0.026416  0.079117  0.041274   \n",
      "2006-02-15 -0.047800  0.055018  0.086401 -0.066574  0.032947  0.043826   \n",
      "\n",
      "Ticker           ZBH      ZBRA  \n",
      "Date                            \n",
      "2006-02-09 -0.085026 -0.169137  \n",
      "2006-02-10 -0.091798 -0.170992  \n",
      "2006-02-13 -0.093691 -0.162012  \n",
      "2006-02-14 -0.086754 -0.172996  \n",
      "2006-02-15 -0.094855 -0.169286  \n",
      "\n",
      "[5 rows x 168 columns]\n",
      "Ticker           AEE       AIZ      AKAM       ALB      ALGN       AMD  \\\n",
      "Date                                                                     \n",
      "2025-04-24  0.019474 -0.031962  0.019571  0.448966  0.115537  0.762147   \n",
      "2025-04-25  0.007866 -0.027513 -0.001003  0.303617  0.130025  0.796793   \n",
      "2025-04-28  0.016931 -0.033174 -0.008606  0.230865  0.136507  0.840855   \n",
      "2025-04-29  0.013854 -0.045642 -0.036058  0.166153  0.145260  0.868728   \n",
      "2025-04-30  0.026643 -0.024389 -0.052991  0.166399 -0.255568  0.811094   \n",
      "\n",
      "Ticker          AMGN       AMP      AMZN       APH  ...       WAB       WEC  \\\n",
      "Date                                                ...                       \n",
      "2025-04-24  0.105236  0.102739  0.240699  0.383742  ...  0.065151  0.014348   \n",
      "2025-04-25  0.082298  0.116384  0.231758  0.409214  ...  0.071876  0.006544   \n",
      "2025-04-28  0.081786  0.116009  0.230741  0.390306  ...  0.053441  0.009534   \n",
      "2025-04-29  0.053623  0.105634  0.228401  0.378152  ...  0.035362  0.001397   \n",
      "2025-04-30  0.023333  0.103790  0.269439  0.386596  ...  0.040875  0.004646   \n",
      "\n",
      "Ticker          WELL       WFC        WM       WRB       WSM       YUM  \\\n",
      "Date                                                                     \n",
      "2025-04-24  0.098535  0.218841  0.013174 -0.030713  0.204870 -0.001087   \n",
      "2025-04-25  0.082086  0.197845  0.001667 -0.027407  0.249836 -0.015629   \n",
      "2025-04-28  0.118611  0.196938  0.031854 -0.021312  0.231404 -0.012574   \n",
      "2025-04-29  0.103452  0.156521  0.019740 -0.025453  0.246882  0.000142   \n",
      "2025-04-30  0.086800  0.141703 -0.014591 -0.032433  0.215629 -0.037111   \n",
      "\n",
      "Ticker           ZBH      ZBRA  \n",
      "Date                            \n",
      "2025-04-24 -0.036424  0.375328  \n",
      "2025-04-25 -0.052025  0.359202  \n",
      "2025-04-28 -0.064503  0.361863  \n",
      "2025-04-29 -0.089775  0.298145  \n",
      "2025-04-30 -0.108320  0.354346  \n",
      "\n",
      "[5 rows x 168 columns]\n",
      "(4836, 168)\n"
     ]
    }
   ],
   "source": [
    "print(forward_returns.head())\n",
    "print(forward_returns.tail())\n",
    "print(forward_returns.shape)"
   ]
  },
  {
   "cell_type": "code",
   "execution_count": 17,
   "id": "ca54a7c9",
   "metadata": {},
   "outputs": [
    {
     "name": "stdout",
     "output_type": "stream",
     "text": [
      "Date\n",
      "Ticker\n"
     ]
    }
   ],
   "source": [
    "print(forward_returns.index.name)     # 'Date'\n",
    "print(forward_returns.columns.name)   # 'Ticker'"
   ]
  },
  {
   "cell_type": "code",
   "execution_count": 18,
   "id": "28ece07e",
   "metadata": {},
   "outputs": [],
   "source": [
    "dates_pdf = pdf.index.get_level_values(\"date\").unique()"
   ]
  },
  {
   "cell_type": "code",
   "execution_count": 19,
   "id": "c8292645",
   "metadata": {},
   "outputs": [
    {
     "data": {
      "text/plain": [
       "DatetimeIndex(['2006-02-09', '2006-04-06', '2006-04-19', '2006-04-20',\n",
       "               '2006-04-21', '2006-04-24', '2006-04-25', '2006-04-26',\n",
       "               '2006-04-27', '2006-04-28',\n",
       "               ...\n",
       "               '2025-05-05', '2025-05-06', '2025-05-07', '2025-05-08',\n",
       "               '2025-05-09', '2025-05-12', '2025-05-14', '2025-05-28',\n",
       "               '2025-05-29', '2025-05-30'],\n",
       "              dtype='datetime64[ms]', name='date', length=1546, freq=None)"
      ]
     },
     "execution_count": 19,
     "metadata": {},
     "output_type": "execute_result"
    }
   ],
   "source": [
    "dates_pdf"
   ]
  },
  {
   "cell_type": "code",
   "execution_count": 20,
   "id": "55c8f589",
   "metadata": {},
   "outputs": [],
   "source": [
    "# méthode filtre direct\n",
    "data_filtered = forward_returns.loc[forward_returns.index.intersection(dates_pdf)]"
   ]
  },
  {
   "cell_type": "code",
   "execution_count": 21,
   "id": "830e44d8",
   "metadata": {},
   "outputs": [],
   "source": [
    "data_filtered = forward_returns.reindex(dates_pdf)"
   ]
  },
  {
   "cell_type": "code",
   "execution_count": 22,
   "id": "189ca831",
   "metadata": {},
   "outputs": [
    {
     "name": "stdout",
     "output_type": "stream",
     "text": [
      "Ticker           AEE       AIZ      AKAM       ALB      ALGN       AMD  \\\n",
      "date                                                                     \n",
      "2006-02-09 -0.009798  0.153639  0.339485  0.142229 -0.051130 -0.213929   \n",
      "2006-04-06  0.025037 -0.011264  0.108839  0.038767 -0.191919 -0.321037   \n",
      "2006-04-19  0.032883 -0.016806 -0.014063  0.020769 -0.281513 -0.319594   \n",
      "2006-04-20  0.039663 -0.015417 -0.051802 -0.021595 -0.300211 -0.310070   \n",
      "2006-04-21  0.040920 -0.023466 -0.128251 -0.025878 -0.288525 -0.424519   \n",
      "...              ...       ...       ...       ...       ...       ...   \n",
      "2025-05-12       NaN       NaN       NaN       NaN       NaN       NaN   \n",
      "2025-05-14       NaN       NaN       NaN       NaN       NaN       NaN   \n",
      "2025-05-28       NaN       NaN       NaN       NaN       NaN       NaN   \n",
      "2025-05-29       NaN       NaN       NaN       NaN       NaN       NaN   \n",
      "2025-05-30       NaN       NaN       NaN       NaN       NaN       NaN   \n",
      "\n",
      "Ticker          AMGN       AMP      AMZN       APH  ...       WAB       WEC  \\\n",
      "date                                                ...                       \n",
      "2006-02-09 -0.052528  0.103365 -0.117399  0.182432  ...  0.236787  0.007238   \n",
      "2006-04-06 -0.075992 -0.048144 -0.062321  0.024855  ...  0.075776  0.016558   \n",
      "2006-04-19 -0.054759 -0.086072 -0.065329 -0.062161  ... -0.064315  0.072989   \n",
      "2006-04-20 -0.066997 -0.098911 -0.059439 -0.080236  ... -0.115868  0.072266   \n",
      "2006-04-21 -0.010027 -0.118121 -0.078823 -0.091243  ... -0.150341  0.076719   \n",
      "...              ...       ...       ...       ...  ...       ...       ...   \n",
      "2025-05-12       NaN       NaN       NaN       NaN  ...       NaN       NaN   \n",
      "2025-05-14       NaN       NaN       NaN       NaN  ...       NaN       NaN   \n",
      "2025-05-28       NaN       NaN       NaN       NaN  ...       NaN       NaN   \n",
      "2025-05-29       NaN       NaN       NaN       NaN  ...       NaN       NaN   \n",
      "2025-05-30       NaN       NaN       NaN       NaN  ...       NaN       NaN   \n",
      "\n",
      "Ticker          WELL       WFC        WM       WRB       WSM       YUM  \\\n",
      "date                                                                     \n",
      "2006-02-09 -0.021961  0.110580  0.154769  0.084263  0.097086  0.081542   \n",
      "2006-04-06 -0.015637  0.056910 -0.026019 -0.155579 -0.224744  0.046920   \n",
      "2006-04-19  0.032074  0.102684 -0.051828 -0.169927 -0.224269  0.025327   \n",
      "2006-04-20  0.036742  0.096977 -0.076037 -0.179330 -0.235319 -0.048508   \n",
      "2006-04-21  0.040693  0.103175 -0.079121 -0.190002 -0.222783 -0.081064   \n",
      "...              ...       ...       ...       ...       ...       ...   \n",
      "2025-05-12       NaN       NaN       NaN       NaN       NaN       NaN   \n",
      "2025-05-14       NaN       NaN       NaN       NaN       NaN       NaN   \n",
      "2025-05-28       NaN       NaN       NaN       NaN       NaN       NaN   \n",
      "2025-05-29       NaN       NaN       NaN       NaN       NaN       NaN   \n",
      "2025-05-30       NaN       NaN       NaN       NaN       NaN       NaN   \n",
      "\n",
      "Ticker           ZBH      ZBRA  \n",
      "date                            \n",
      "2006-02-09 -0.085026 -0.169137  \n",
      "2006-04-06 -0.143693 -0.271647  \n",
      "2006-04-19 -0.182869 -0.281742  \n",
      "2006-04-20 -0.200452 -0.300393  \n",
      "2006-04-21 -0.180081 -0.316069  \n",
      "...              ...       ...  \n",
      "2025-05-12       NaN       NaN  \n",
      "2025-05-14       NaN       NaN  \n",
      "2025-05-28       NaN       NaN  \n",
      "2025-05-29       NaN       NaN  \n",
      "2025-05-30       NaN       NaN  \n",
      "\n",
      "[1546 rows x 168 columns]\n"
     ]
    }
   ],
   "source": [
    "print(data_filtered)"
   ]
  },
  {
   "cell_type": "code",
   "execution_count": 23,
   "id": "4d6b895c",
   "metadata": {},
   "outputs": [
    {
     "name": "stdout",
     "output_type": "stream",
     "text": [
      "DatetimeIndex(['2007-04-06', '2011-04-22', '2012-10-29', '2012-10-30',\n",
      "               '2019-04-19', '2025-04-18', '2025-05-01', '2025-05-02',\n",
      "               '2025-05-05', '2025-05-06', '2025-05-07', '2025-05-08',\n",
      "               '2025-05-09', '2025-05-12', '2025-05-14', '2025-05-28',\n",
      "               '2025-05-29', '2025-05-30'],\n",
      "              dtype='datetime64[ms]', name='date', freq=None)\n"
     ]
    }
   ],
   "source": [
    "nan_dates = data_filtered.index[data_filtered.isna().all(axis=1)]\n",
    "print(nan_dates)"
   ]
  },
  {
   "cell_type": "code",
   "execution_count": 24,
   "id": "e2d08c84",
   "metadata": {},
   "outputs": [
    {
     "name": "stdout",
     "output_type": "stream",
     "text": [
      "                   index      cik file_type  \\\n",
      "Symbol date                                   \n",
      "MCHP   2006-02-09      0   827054       10Q   \n",
      "RL     2006-02-09      1  1037038       10Q   \n",
      "MKC    2006-04-06      2    63754       10Q   \n",
      "QCOM   2006-04-19      3   804328       10Q   \n",
      "DHR    2006-04-20      4   313616       10Q   \n",
      "\n",
      "                                                                  rf  \\\n",
      "Symbol date                                                            \n",
      "MCHP   2006-02-09  Item\\n 1A. Risk Factors \\n\\n28 Item 1A. Risk\\n...   \n",
      "RL     2006-02-09  Item 1A. \\n\\nRisk Factors \\n\\n37 Item 1A. Risk...   \n",
      "MKC    2006-04-06  ITEM 1A \\n\\nRISK FACTORS ITEM 1A. RISK FACTORS...   \n",
      "QCOM   2006-04-19  Item 1A. Risk Factors \\n\\n52 ITEM 1A. RISK FAC...   \n",
      "DHR    2006-04-20  Item 1A. \\n\\nRisk Factors \\n \\n 30 ITEM 1A. RI...   \n",
      "\n",
      "                                                                mgmt    gvkey  \\\n",
      "Symbol date                                                                     \n",
      "MCHP   2006-02-09  Item 2. Management s Discussion and Analysis o...  27965.0   \n",
      "RL     2006-02-09  Item 2. \\n\\nManagement s Discussion and Analys...  64891.0   \n",
      "MKC    2006-04-06  ITEM 2 \\n\\nMANAGEMENT S DISCUSSION AND\\n ANALY...   7146.0   \n",
      "QCOM   2006-04-19  Item 2. Management s Discussion and Analysis o...  24800.0   \n",
      "DHR    2006-04-20  Item 2. \\n\\nManagement s Discussion and Analys...   3735.0   \n",
      "\n",
      "                       cusip  year  rf_len  mgmt_len  \\\n",
      "Symbol date                                            \n",
      "MCHP   2006-02-09  595017104  2006   26984     64486   \n",
      "RL     2006-02-09  751212101  2006    6080     42221   \n",
      "MKC    2006-04-06  579780206  2006     196     34557   \n",
      "QCOM   2006-04-19  747525103  2006     398    136043   \n",
      "DHR    2006-04-20  235851102  2006     490     65507   \n",
      "\n",
      "                                   Security    return  \n",
      "Symbol date                                            \n",
      "MCHP   2006-02-09      Microchip Technology -0.026369  \n",
      "RL     2006-02-09  Ralph Lauren Corporation  0.082792  \n",
      "MKC    2006-04-06       McCormick & Company  0.017890  \n",
      "QCOM   2006-04-19                  Qualcomm -0.298526  \n",
      "DHR    2006-04-20       Danaher Corporation -0.038011  \n"
     ]
    }
   ],
   "source": [
    "# Ton premier dataset de returns : index = date, colonnes = tickers\n",
    "returns = data_filtered.copy()  \n",
    "\n",
    "# Transforme en long format pour avoir (Symbol, date, return)\n",
    "returns_long = returns.reset_index().melt(\n",
    "    id_vars=\"date\", var_name=\"Symbol\", value_name=\"return\"\n",
    ")\n",
    "\n",
    "# Mets le même index que le deuxième dataset\n",
    "returns_long = returns_long.set_index([\"Symbol\", \"date\"])\n",
    "\n",
    "# Merge avec le deuxième dataset\n",
    "merged = pdf.join(returns_long, how=\"left\")\n",
    "\n",
    "print(merged.head())"
   ]
  },
  {
   "cell_type": "code",
   "execution_count": 32,
   "id": "e25175c7",
   "metadata": {},
   "outputs": [
    {
     "name": "stdout",
     "output_type": "stream",
     "text": [
      "Index(['mgmt', 'rf', 'return'], dtype='object')\n",
      "Index(['mgmt', 'rf', 'return'], dtype='object')\n"
     ]
    }
   ],
   "source": [
    "print(merged.columns)\n",
    "merged = merged[[\"mgmt\", \"rf\", \"return\"]]\n",
    "print(merged.columns)"
   ]
  },
  {
   "cell_type": "code",
   "execution_count": 33,
   "id": "c09d5f71",
   "metadata": {},
   "outputs": [],
   "source": [
    "cleaned = merged.dropna(subset=[\"return\", \"mgmt\", \"rf\"])"
   ]
  },
  {
   "cell_type": "code",
   "execution_count": 34,
   "id": "d303bc86",
   "metadata": {},
   "outputs": [
    {
     "name": "stdout",
     "output_type": "stream",
     "text": [
      "Avant : 9744\n",
      "Après : 9516\n"
     ]
    }
   ],
   "source": [
    "print(\"Avant :\", len(merged))\n",
    "print(\"Après :\", len(cleaned))"
   ]
  },
  {
   "cell_type": "code",
   "execution_count": 35,
   "id": "1361c205",
   "metadata": {},
   "outputs": [
    {
     "name": "stdout",
     "output_type": "stream",
     "text": [
      "(9516, 3)\n"
     ]
    }
   ],
   "source": [
    "print(cleaned.shape)"
   ]
  },
  {
   "cell_type": "code",
   "execution_count": 36,
   "id": "5d610e74",
   "metadata": {},
   "outputs": [],
   "source": [
    "cleaned.to_parquet(PRE_DATASET_FILE)"
   ]
  }
 ],
 "metadata": {
  "kernelspec": {
   "display_name": "ECN6338",
   "language": "python",
   "name": "python3"
  },
  "language_info": {
   "codemirror_mode": {
    "name": "ipython",
    "version": 3
   },
   "file_extension": ".py",
   "mimetype": "text/x-python",
   "name": "python",
   "nbconvert_exporter": "python",
   "pygments_lexer": "ipython3",
   "version": "3.13.2"
  }
 },
 "nbformat": 4,
 "nbformat_minor": 5
}
