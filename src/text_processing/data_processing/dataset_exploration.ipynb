{
 "cells": [
  {
   "cell_type": "code",
   "execution_count": 1,
   "id": "4ed6c755",
   "metadata": {},
   "outputs": [],
   "source": [
    "import pickle as pkl"
   ]
  },
  {
   "cell_type": "code",
   "execution_count": 8,
   "id": "5300ff11",
   "metadata": {},
   "outputs": [
    {
     "name": "stderr",
     "output_type": "stream",
     "text": [
      "/var/folders/3d/px25gn9n1cg8clmw10nxnsg00000gn/T/ipykernel_30143/4024255653.py:3: DeprecationWarning: numpy.core.numeric is deprecated and has been renamed to numpy._core.numeric. The numpy._core namespace contains private NumPy internals and its use is discouraged, as NumPy internals can change without warning in any release. In practice, most real-world usage of numpy.core is to access functionality in the public NumPy API. If that is the case, use the public NumPy API. If not, you are using NumPy internals. If you would still like to access an internal attribute, use numpy._core.numeric._frombuffer.\n",
      "  dataset = pkl.load(f) # loading dataset\n"
     ]
    },
    {
     "name": "stdout",
     "output_type": "stream",
     "text": [
      "            date      cik file_type  \\\n",
      "556006  20250102   940944       10Q   \n",
      "556005  20250102  1005286       10Q   \n",
      "556004  20250102  1084765       10Q   \n",
      "556010  20250103    96536       10Q   \n",
      "556008  20250103   320187       10Q   \n",
      "...          ...      ...       ...   \n",
      "567645  20250603  1734722       10Q   \n",
      "567635  20250603  1745032       10Q   \n",
      "567639  20250603  1813603       10Q   \n",
      "567631  20250603  1888846       10Q   \n",
      "567644  20250603  2011641       10Q   \n",
      "\n",
      "                                                       rf  \\\n",
      "556006  Item 1A.Risk Factors34 Item 1A. Risk Factors” ...   \n",
      "556005  Item 1A.Risk Factors30 Item 1A. Risk FactorsYo...   \n",
      "556004  ITEM 1A.Risk Factors45 ITEM 1A. RISK FACTORS. ...   \n",
      "556010  Item 1A.\\nRisk Factors\\n18 Item 1A. Risk Facto...   \n",
      "556008  ITEM 1A.Risk Factors42 ITEM 1A. RISK FACTORSTh...   \n",
      "...                                                   ...   \n",
      "567645  Item 1A.Risk Factors38 Item 1A. Risk Factors.O...   \n",
      "567635  Item 1A.Risk Factors48​ Item 1A. Risk FactorsS...   \n",
      "567639  Item 1A.\\n \\nRisk Factors\\n \\n22 ITEM 1A. RISK...   \n",
      "567631  ITEM\\n    1A\\n \\nRISK\\n    FACTORS\\n4 Item\\n1A...   \n",
      "567644  Item 1A. Risk Factors31 Item 1A.Risk FactorsAs...   \n",
      "\n",
      "                                                     mgmt     gvkey  \\\n",
      "556006  Item 2.Management’s Discussion and Analysis of...   31846.0   \n",
      "556005  Item 2.Management’s Discussion and Analysis of...   62169.0   \n",
      "556004  ITEM 2.Management’s Discussion and Analysis of...  141359.0   \n",
      "556010  Item 2.\\nManagement’s Discussion and Analysis ...   10349.0   \n",
      "556008  ITEM 2.Management's Discussion and Analysis of...    7906.0   \n",
      "...                                                   ...       ...   \n",
      "567645  Item 2.Management’s Discussion and Analysis of...   38646.0   \n",
      "567635  Item 2.Management’s Discussion and Analysis of...       NaN   \n",
      "567639  Item 2.\\n \\nManagement’s Discussion and Analys...       NaN   \n",
      "567631  ITEM\\n    2\\n \\nMANAGEMENT’S\\n    DISCUSSION A...       NaN   \n",
      "567644  Item 2. Management’s Discussion and Analysis o...  100644.0   \n",
      "\n",
      "            cusip  year  \n",
      "556006  237194105  2025  \n",
      "556005  514766104  2025  \n",
      "556004  76122Q105  2025  \n",
      "556010  877163105  2025  \n",
      "556008  654106103  2025  \n",
      "...           ...   ...  \n",
      "567645  90364P105  2025  \n",
      "567635        NaN  2025  \n",
      "567639        NaN  2025  \n",
      "567631        NaN  2025  \n",
      "567644  31488V107  2025  \n",
      "\n",
      "[11644 rows x 8 columns]\n"
     ]
    }
   ],
   "source": [
    "with open('text_us_2025.pkl', 'rb') as f:\n",
    "\n",
    "    dataset = pkl.load(f) # loading dataset\n",
    "    print(dataset) # print dataset\n"
   ]
  },
  {
   "cell_type": "markdown",
   "id": "9221578f",
   "metadata": {},
   "source": [
    "print(dataset)"
   ]
  },
  {
   "cell_type": "code",
   "execution_count": 11,
   "id": "b6260c42",
   "metadata": {},
   "outputs": [
    {
     "name": "stdout",
     "output_type": "stream",
     "text": [
      "<class 'pandas.core.frame.DataFrame'>\n"
     ]
    }
   ],
   "source": [
    "print(type(dataset))"
   ]
  },
  {
   "cell_type": "code",
   "execution_count": 12,
   "id": "392cecc2",
   "metadata": {},
   "outputs": [],
   "source": [
    "import pandas as pd"
   ]
  },
  {
   "cell_type": "code",
   "execution_count": 17,
   "id": "17770d1a",
   "metadata": {},
   "outputs": [
    {
     "name": "stdout",
     "output_type": "stream",
     "text": [
      "            date      cik file_type  \\\n",
      "556006  20250102   940944       10Q   \n",
      "556005  20250102  1005286       10Q   \n",
      "556004  20250102  1084765       10Q   \n",
      "556010  20250103    96536       10Q   \n",
      "556008  20250103   320187       10Q   \n",
      "\n",
      "                                                       rf  \\\n",
      "556006  Item 1A.Risk Factors34 Item 1A. Risk Factors” ...   \n",
      "556005  Item 1A.Risk Factors30 Item 1A. Risk FactorsYo...   \n",
      "556004  ITEM 1A.Risk Factors45 ITEM 1A. RISK FACTORS. ...   \n",
      "556010  Item 1A.\\nRisk Factors\\n18 Item 1A. Risk Facto...   \n",
      "556008  ITEM 1A.Risk Factors42 ITEM 1A. RISK FACTORSTh...   \n",
      "\n",
      "                                                     mgmt     gvkey  \\\n",
      "556006  Item 2.Management’s Discussion and Analysis of...   31846.0   \n",
      "556005  Item 2.Management’s Discussion and Analysis of...   62169.0   \n",
      "556004  ITEM 2.Management’s Discussion and Analysis of...  141359.0   \n",
      "556010  Item 2.\\nManagement’s Discussion and Analysis ...   10349.0   \n",
      "556008  ITEM 2.Management's Discussion and Analysis of...    7906.0   \n",
      "\n",
      "            cusip  year  \n",
      "556006  237194105  2025  \n",
      "556005  514766104  2025  \n",
      "556004  76122Q105  2025  \n",
      "556010  877163105  2025  \n",
      "556008  654106103  2025  \n",
      "Nombre d'entreprises différentes (CIK) : 6486\n"
     ]
    }
   ],
   "source": [
    "print(dataset.head())\n",
    "# afficher nombre d'entreprises uniques selon 'cik'\n",
    "nb_cik = dataset['cik'].nunique()\n",
    "print(\"Nombre d'entreprises différentes (CIK) :\", nb_cik)"
   ]
  },
  {
   "cell_type": "code",
   "execution_count": 18,
   "id": "4ff5e450",
   "metadata": {},
   "outputs": [
    {
     "name": "stdout",
     "output_type": "stream",
     "text": [
      "date                                                  20250102\n",
      "cik                                                    1005286\n",
      "file_type                                                  10Q\n",
      "rf           Item 1A.Risk Factors30 Item 1A. Risk FactorsYo...\n",
      "mgmt         Item 2.Management’s Discussion and Analysis of...\n",
      "gvkey                                                  62169.0\n",
      "cusip                                                514766104\n",
      "year                                                      2025\n",
      "Name: 556005, dtype: object\n"
     ]
    }
   ],
   "source": [
    "# extraire ligne 1 par position\n",
    "row1 = dataset.iloc[1]\n",
    "print(row1)"
   ]
  },
  {
   "cell_type": "code",
   "execution_count": 21,
   "id": "86a2b3e5",
   "metadata": {},
   "outputs": [
    {
     "name": "stdout",
     "output_type": "stream",
     "text": [
      "Nb tickers S&P 500 : 503\n",
      "  Symbol             Security             GICS Sector  \\\n",
      "0    MMM                   3M             Industrials   \n",
      "1    AOS          A. O. Smith             Industrials   \n",
      "2    ABT  Abbott Laboratories             Health Care   \n",
      "3   ABBV               AbbVie             Health Care   \n",
      "4    ACN            Accenture  Information Technology   \n",
      "\n",
      "                GICS Sub-Industry    Headquarters Location  Date added  \\\n",
      "0        Industrial Conglomerates    Saint Paul, Minnesota  1957-03-04   \n",
      "1               Building Products     Milwaukee, Wisconsin  2017-07-26   \n",
      "2           Health Care Equipment  North Chicago, Illinois  1957-03-04   \n",
      "3                   Biotechnology  North Chicago, Illinois  2012-12-31   \n",
      "4  IT Consulting & Other Services          Dublin, Ireland  2011-07-06   \n",
      "\n",
      "       CIK      Founded  \n",
      "0    66740         1902  \n",
      "1    91142         1916  \n",
      "2     1800         1888  \n",
      "3  1551152  2013 (1888)  \n",
      "4  1467373         1989  \n"
     ]
    },
    {
     "name": "stderr",
     "output_type": "stream",
     "text": [
      "/var/folders/3d/px25gn9n1cg8clmw10nxnsg00000gn/T/ipykernel_30143/2657787493.py:11: FutureWarning: Passing literal html to 'read_html' is deprecated and will be removed in a future version. To read from a literal string, wrap it in a 'StringIO' object.\n",
      "  sp500 = pd.read_html(html)[0]\n"
     ]
    }
   ],
   "source": [
    "import pandas as pd\n",
    "import requests\n",
    "\n",
    "url = \"https://en.wikipedia.org/wiki/List_of_S%26P_500_companies\"\n",
    "\n",
    "# requête avec user-agent (sinon Wikipedia bloque)\n",
    "headers = {\"User-Agent\": \"Mozilla/5.0\"}\n",
    "html = requests.get(url, headers=headers).text\n",
    "\n",
    "# extraire les tables\n",
    "sp500 = pd.read_html(html)[0]\n",
    "sp500_tickers = sp500['Symbol'].tolist()\n",
    "\n",
    "print(\"Nb tickers S&P 500 :\", len(sp500_tickers))\n",
    "print(sp500.head())"
   ]
  },
  {
   "cell_type": "code",
   "execution_count": null,
   "id": "2cd187db",
   "metadata": {},
   "outputs": [
    {
     "name": "stdout",
     "output_type": "stream",
     "text": [
      "       cik ticker            name\n",
      "0  1045810   NVDA     NVIDIA CORP\n",
      "1   789019   MSFT  MICROSOFT CORP\n",
      "2   320193   AAPL      Apple Inc.\n",
      "3  1652044  GOOGL   Alphabet Inc.\n",
      "4  1018724   AMZN  AMAZON COM INC\n"
     ]
    }
   ],
   "source": [
    "import pandas as pd\n",
    "import requests\n",
    "\n",
    "def get_ticker_list_sp500():\n",
    "    url = \"https://www.sec.gov/files/company_tickers.json\"\n",
    "    headers = {\"User-Agent\": \"Mozilla/5.0 (Arthur Maffre; contact: ton_mail@example.com)\"}\n",
    "    r = requests.get(url, headers=headers)\n",
    "    r.raise_for_status()  # plante si erreur HTTP\n",
    "    data = r.json()       # ici ça doit marcher\n",
    "\n",
    "    df = pd.DataFrame([\n",
    "        {\"cik\": str(v[\"cik_str\"]), \"ticker\": v[\"ticker\"], \"name\": v[\"title\"]}\n",
    "        for v in data.values()\n",
    "    ])\n",
    "    return df\n",
    "\n",
    "sp500_list = get_ticker_list_sp500()\n",
    "print(sp500_list.head())\n"
   ]
  }
 ],
 "metadata": {
  "kernelspec": {
   "display_name": "ECN6338",
   "language": "python",
   "name": "python3"
  },
  "language_info": {
   "codemirror_mode": {
    "name": "ipython",
    "version": 3
   },
   "file_extension": ".py",
   "mimetype": "text/x-python",
   "name": "python",
   "nbconvert_exporter": "python",
   "pygments_lexer": "ipython3",
   "version": "3.13.2"
  }
 },
 "nbformat": 4,
 "nbformat_minor": 5
}
