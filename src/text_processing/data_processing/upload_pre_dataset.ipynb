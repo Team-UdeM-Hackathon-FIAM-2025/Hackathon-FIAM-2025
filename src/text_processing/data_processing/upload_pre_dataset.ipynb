{
 "cells": [
  {
   "cell_type": "markdown",
   "id": "9d1f9af6",
   "metadata": {},
   "source": [
    "# Setting up env"
   ]
  },
  {
   "cell_type": "markdown",
   "id": "cf23aab5",
   "metadata": {},
   "source": [
    "## Importing libs"
   ]
  },
  {
   "cell_type": "code",
   "execution_count": 1,
   "id": "2abb4f2e",
   "metadata": {},
   "outputs": [],
   "source": [
    "from huggingface_hub import HfApi\n",
    "import os"
   ]
  },
  {
   "cell_type": "markdown",
   "id": "5461ad23",
   "metadata": {},
   "source": [
    "## Setting up paths"
   ]
  },
  {
   "cell_type": "code",
   "execution_count": 2,
   "id": "8252fb2e",
   "metadata": {},
   "outputs": [],
   "source": [
    "from paths import PRE_DATASET_FILE"
   ]
  },
  {
   "cell_type": "markdown",
   "id": "270d7e81",
   "metadata": {},
   "source": [
    "## Setting up env variable"
   ]
  },
  {
   "cell_type": "code",
   "execution_count": 3,
   "id": "0e1f5e07",
   "metadata": {},
   "outputs": [
    {
     "name": "stdout",
     "output_type": "stream",
     "text": [
      "token secret\n"
     ]
    }
   ],
   "source": [
    "os.environ[\"HF_TOKEN\"] = \"token secret\"\n",
    "print(os.environ[\"HF_TOKEN\"])  # vérif"
   ]
  },
  {
   "cell_type": "markdown",
   "id": "6c1b8457",
   "metadata": {},
   "source": [
    "# Upload function"
   ]
  },
  {
   "cell_type": "code",
   "execution_count": 4,
   "id": "44a47e85",
   "metadata": {},
   "outputs": [],
   "source": [
    "def upload_pre_dataset(\n",
    "    repo_id: str = \"Arthurmaffre34/pre-dataset\",\n",
    "    file_path: str = PRE_DATASET_FILE,\n",
    "    file_name: str = \"pre_dataset.parquet\",\n",
    "    token: str = None\n",
    "):\n",
    "    \"\"\"\n",
    "    Upload un fichier vers un repo Hugging Face (dataset).\n",
    "\n",
    "    Args:\n",
    "        repo_id (str): ID du repo Hugging Face (par défaut: Arthurmaffre34/pre-dataset).\n",
    "        file_path (str): Chemin local du fichier à uploader (par défaut PRE_DATASET_FILE).\n",
    "        file_name (str): Nom du fichier dans le repo HF (par défaut: pre_dataset.parquet).\n",
    "        token (str): Hugging Face token (par défaut récupéré depuis $HF_TOKEN).\n",
    "    \"\"\"\n",
    "    api = HfApi()\n",
    "    token = token or os.getenv(\"HF_TOKEN\")\n",
    "    if token is None:\n",
    "        raise ValueError(\"❌ Aucun token fourni. Configure $HF_TOKEN dans ton environnement.\")\n",
    "\n",
    "    # crée le repo s'il n'existe pas\n",
    "    api.create_repo(repo_id=repo_id, repo_type=\"dataset\", exist_ok=True)\n",
    "\n",
    "    # upload du fichier\n",
    "    api.upload_file(\n",
    "        path_or_fileobj=str(file_path),\n",
    "        path_in_repo=file_name,\n",
    "        repo_id=repo_id,\n",
    "        repo_type=\"dataset\",\n",
    "        token=token,\n",
    "    )\n",
    "\n",
    "    print(f\"✅ Upload terminé → https://huggingface.co/datasets/{repo_id}\")"
   ]
  },
  {
   "cell_type": "code",
   "execution_count": null,
   "id": "49c4e079",
   "metadata": {},
   "outputs": [],
   "source": [
    "upload_pre_dataset()"
   ]
  }
 ],
 "metadata": {
  "kernelspec": {
   "display_name": "ECN6338",
   "language": "python",
   "name": "python3"
  },
  "language_info": {
   "codemirror_mode": {
    "name": "ipython",
    "version": 3
   },
   "file_extension": ".py",
   "mimetype": "text/x-python",
   "name": "python",
   "nbconvert_exporter": "python",
   "pygments_lexer": "ipython3",
   "version": "3.13.2"
  }
 },
 "nbformat": 4,
 "nbformat_minor": 5
}
